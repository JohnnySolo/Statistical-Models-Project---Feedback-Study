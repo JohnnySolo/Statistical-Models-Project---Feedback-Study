{
  "nbformat": 4,
  "nbformat_minor": 0,
  "metadata": {
    "colab": {
      "provenance": [],
      "name": "Statistical_Models_feedback_study.ipynb",
      "authorship_tag": "ABX9TyNjmAT+D2/uPyTnVhFUPhRK",
      "include_colab_link": true
    },
    "kernelspec": {
      "name": "python3",
      "display_name": "Python 3"
    },
    "language_info": {
      "name": "python"
    }
  },
  "cells": [
    {
      "cell_type": "markdown",
      "metadata": {
        "id": "view-in-github",
        "colab_type": "text"
      },
      "source": [
        "<a href=\"https://colab.research.google.com/github/JohnnySolo/Data-Analysis-Project---Feedback-Study/blob/main/Statistical_Models_feedback_study.ipynb\" target=\"_parent\"><img src=\"https://colab.research.google.com/assets/colab-badge.svg\" alt=\"Open In Colab\"/></a>"
      ]
    },
    {
      "cell_type": "markdown",
      "source": [
        "# Statistical Models - Feedback Study (2024)\n",
        "\n"
      ],
      "metadata": {
        "id": "kBhm58ANfQb7"
      }
    },
    {
      "cell_type": "code",
      "source": [
        "# Load necessary libraries\n",
        "import pandas as pd  # For handling data frames and CSV file operations\n",
        "import statsmodels.formula.api as smf  # For specifying statistical models using formulas\n",
        "from statsmodels.regression.mixed_linear_model import MixedLM  # For fitting mixed linear models\n",
        "import statsmodels.api as sm  # For performing advanced statistical tests\n",
        "from scipy.stats import chi2  # For chi-squared distribution calculations\n",
        "import numpy as np  # For matrix and vector computations"
      ],
      "metadata": {
        "id": "Z8TSu0KJfe0j"
      },
      "execution_count": null,
      "outputs": []
    },
    {
      "cell_type": "code",
      "source": [
        "# Upload and Read the CSV file\n",
        "from google.colab import files  # For uploading files in Google Colab\n",
        "uploaded = files.upload()  # Prompt to upload the file\n",
        "\n",
        "# Update the file path to match the uploaded file name\n",
        "feedback_df = pd.read_csv(\"feedback_df_bi.csv\")  # Use the correct file name after upload\n"
      ],
      "metadata": {
        "colab": {
          "base_uri": "https://localhost:8080/",
          "height": 73
        },
        "id": "ZsyF9-xTLsf0",
        "outputId": "a49b77d6-2ab8-4749-b28f-be7c1db85882"
      },
      "execution_count": null,
      "outputs": [
        {
          "output_type": "display_data",
          "data": {
            "text/plain": [
              "<IPython.core.display.HTML object>"
            ],
            "text/html": [
              "\n",
              "     <input type=\"file\" id=\"files-2ebfc69a-3a1c-4b21-91f8-ed1a4c390bc5\" name=\"files[]\" multiple disabled\n",
              "        style=\"border:none\" />\n",
              "     <output id=\"result-2ebfc69a-3a1c-4b21-91f8-ed1a4c390bc5\">\n",
              "      Upload widget is only available when the cell has been executed in the\n",
              "      current browser session. Please rerun this cell to enable.\n",
              "      </output>\n",
              "      <script>// Copyright 2017 Google LLC\n",
              "//\n",
              "// Licensed under the Apache License, Version 2.0 (the \"License\");\n",
              "// you may not use this file except in compliance with the License.\n",
              "// You may obtain a copy of the License at\n",
              "//\n",
              "//      http://www.apache.org/licenses/LICENSE-2.0\n",
              "//\n",
              "// Unless required by applicable law or agreed to in writing, software\n",
              "// distributed under the License is distributed on an \"AS IS\" BASIS,\n",
              "// WITHOUT WARRANTIES OR CONDITIONS OF ANY KIND, either express or implied.\n",
              "// See the License for the specific language governing permissions and\n",
              "// limitations under the License.\n",
              "\n",
              "/**\n",
              " * @fileoverview Helpers for google.colab Python module.\n",
              " */\n",
              "(function(scope) {\n",
              "function span(text, styleAttributes = {}) {\n",
              "  const element = document.createElement('span');\n",
              "  element.textContent = text;\n",
              "  for (const key of Object.keys(styleAttributes)) {\n",
              "    element.style[key] = styleAttributes[key];\n",
              "  }\n",
              "  return element;\n",
              "}\n",
              "\n",
              "// Max number of bytes which will be uploaded at a time.\n",
              "const MAX_PAYLOAD_SIZE = 100 * 1024;\n",
              "\n",
              "function _uploadFiles(inputId, outputId) {\n",
              "  const steps = uploadFilesStep(inputId, outputId);\n",
              "  const outputElement = document.getElementById(outputId);\n",
              "  // Cache steps on the outputElement to make it available for the next call\n",
              "  // to uploadFilesContinue from Python.\n",
              "  outputElement.steps = steps;\n",
              "\n",
              "  return _uploadFilesContinue(outputId);\n",
              "}\n",
              "\n",
              "// This is roughly an async generator (not supported in the browser yet),\n",
              "// where there are multiple asynchronous steps and the Python side is going\n",
              "// to poll for completion of each step.\n",
              "// This uses a Promise to block the python side on completion of each step,\n",
              "// then passes the result of the previous step as the input to the next step.\n",
              "function _uploadFilesContinue(outputId) {\n",
              "  const outputElement = document.getElementById(outputId);\n",
              "  const steps = outputElement.steps;\n",
              "\n",
              "  const next = steps.next(outputElement.lastPromiseValue);\n",
              "  return Promise.resolve(next.value.promise).then((value) => {\n",
              "    // Cache the last promise value to make it available to the next\n",
              "    // step of the generator.\n",
              "    outputElement.lastPromiseValue = value;\n",
              "    return next.value.response;\n",
              "  });\n",
              "}\n",
              "\n",
              "/**\n",
              " * Generator function which is called between each async step of the upload\n",
              " * process.\n",
              " * @param {string} inputId Element ID of the input file picker element.\n",
              " * @param {string} outputId Element ID of the output display.\n",
              " * @return {!Iterable<!Object>} Iterable of next steps.\n",
              " */\n",
              "function* uploadFilesStep(inputId, outputId) {\n",
              "  const inputElement = document.getElementById(inputId);\n",
              "  inputElement.disabled = false;\n",
              "\n",
              "  const outputElement = document.getElementById(outputId);\n",
              "  outputElement.innerHTML = '';\n",
              "\n",
              "  const pickedPromise = new Promise((resolve) => {\n",
              "    inputElement.addEventListener('change', (e) => {\n",
              "      resolve(e.target.files);\n",
              "    });\n",
              "  });\n",
              "\n",
              "  const cancel = document.createElement('button');\n",
              "  inputElement.parentElement.appendChild(cancel);\n",
              "  cancel.textContent = 'Cancel upload';\n",
              "  const cancelPromise = new Promise((resolve) => {\n",
              "    cancel.onclick = () => {\n",
              "      resolve(null);\n",
              "    };\n",
              "  });\n",
              "\n",
              "  // Wait for the user to pick the files.\n",
              "  const files = yield {\n",
              "    promise: Promise.race([pickedPromise, cancelPromise]),\n",
              "    response: {\n",
              "      action: 'starting',\n",
              "    }\n",
              "  };\n",
              "\n",
              "  cancel.remove();\n",
              "\n",
              "  // Disable the input element since further picks are not allowed.\n",
              "  inputElement.disabled = true;\n",
              "\n",
              "  if (!files) {\n",
              "    return {\n",
              "      response: {\n",
              "        action: 'complete',\n",
              "      }\n",
              "    };\n",
              "  }\n",
              "\n",
              "  for (const file of files) {\n",
              "    const li = document.createElement('li');\n",
              "    li.append(span(file.name, {fontWeight: 'bold'}));\n",
              "    li.append(span(\n",
              "        `(${file.type || 'n/a'}) - ${file.size} bytes, ` +\n",
              "        `last modified: ${\n",
              "            file.lastModifiedDate ? file.lastModifiedDate.toLocaleDateString() :\n",
              "                                    'n/a'} - `));\n",
              "    const percent = span('0% done');\n",
              "    li.appendChild(percent);\n",
              "\n",
              "    outputElement.appendChild(li);\n",
              "\n",
              "    const fileDataPromise = new Promise((resolve) => {\n",
              "      const reader = new FileReader();\n",
              "      reader.onload = (e) => {\n",
              "        resolve(e.target.result);\n",
              "      };\n",
              "      reader.readAsArrayBuffer(file);\n",
              "    });\n",
              "    // Wait for the data to be ready.\n",
              "    let fileData = yield {\n",
              "      promise: fileDataPromise,\n",
              "      response: {\n",
              "        action: 'continue',\n",
              "      }\n",
              "    };\n",
              "\n",
              "    // Use a chunked sending to avoid message size limits. See b/62115660.\n",
              "    let position = 0;\n",
              "    do {\n",
              "      const length = Math.min(fileData.byteLength - position, MAX_PAYLOAD_SIZE);\n",
              "      const chunk = new Uint8Array(fileData, position, length);\n",
              "      position += length;\n",
              "\n",
              "      const base64 = btoa(String.fromCharCode.apply(null, chunk));\n",
              "      yield {\n",
              "        response: {\n",
              "          action: 'append',\n",
              "          file: file.name,\n",
              "          data: base64,\n",
              "        },\n",
              "      };\n",
              "\n",
              "      let percentDone = fileData.byteLength === 0 ?\n",
              "          100 :\n",
              "          Math.round((position / fileData.byteLength) * 100);\n",
              "      percent.textContent = `${percentDone}% done`;\n",
              "\n",
              "    } while (position < fileData.byteLength);\n",
              "  }\n",
              "\n",
              "  // All done.\n",
              "  yield {\n",
              "    response: {\n",
              "      action: 'complete',\n",
              "    }\n",
              "  };\n",
              "}\n",
              "\n",
              "scope.google = scope.google || {};\n",
              "scope.google.colab = scope.google.colab || {};\n",
              "scope.google.colab._files = {\n",
              "  _uploadFiles,\n",
              "  _uploadFilesContinue,\n",
              "};\n",
              "})(self);\n",
              "</script> "
            ]
          },
          "metadata": {}
        },
        {
          "output_type": "stream",
          "name": "stdout",
          "text": [
            "Saving feedback_df_bi.csv to feedback_df_bi.csv\n"
          ]
        }
      ]
    },
    {
      "cell_type": "markdown",
      "source": [
        "### **Feedback Linear Mixed Model (LMM)**\n",
        "\n",
        "We model the performance score outcome \\\\( [\\text{performance}_{ij}] \\\\) of individuals as a function of their gender \\\\( [\\text{gender}_{ij}] \\\\), the feedback they got \\\\( [\\text{feedback}_{ij}] \\\\), and their interaction \\\\( [\\text{gender}_{ij}] \\cdot [\\text{feedback}_{ij}] \\\\), while using \\\\( [\\text{id}_{i}] \\\\) as a cluster.  \n",
        "\n",
        "Therefore, we'll be using a Linear Mixed Model (LMM).  \n",
        "\n",
        "The full formulation of the model is:\n",
        "\n",
        "\\\\[ \\text{performance}_{ij} = \\begin{bmatrix} 1 & \\text{gender}_{ij} & \\text{feedback}_{ij} & \\text{gender}_{ij} \\cdot \\text{feedback}_{ij} \\end{bmatrix} \\cdot \\begin{bmatrix} \\beta_0 \\\\ \\beta_1 \\\\ \\beta_2 \\\\ \\beta_3 \\end{bmatrix} + \\text{id}_i \\cdot b_{0i} + \\epsilon_{ij} \\\\]\n",
        "\n",
        "#### <u>Where</u>:\n",
        "\n",
        "- **\\\\( \\text{performance}_{ij} \\\\)**:  \n",
        "  Outcome of the performance vector (observation performance score).\n",
        "\n",
        "- **\\\\( \\beta_0 \\\\)**:  \n",
        "  The overall intercept - baseline performance score when all predictors are zero (**fixed effect**).  \n",
        "\n",
        "- **\\\\( \\text{gender}_{ij} \\\\)**:  \n",
        "  The gender predictor for observation \\\\( j \\\\) in cluster \\\\( i \\\\).  \n",
        "\n",
        "- **\\\\( \\beta_1 \\\\)**:  \n",
        "  The effect of \\\\( \\text{gender}_{ij} \\\\) on \\\\( \\text{performance}_{ij} \\\\) (**fixed effect**).  \n",
        "\n",
        "- **\\\\( \\text{feedback}_{ij} \\\\)**:  \n",
        "  The feedback type predictor for observation \\\\( j \\\\) in cluster \\\\( i \\\\).  \n",
        "\n",
        "- **\\\\( \\beta_2 \\\\)**:  \n",
        "  The effect of \\\\( \\text{feedback}_{ij} \\\\) type on \\\\( \\text{performance}_{ij} \\\\) (**fixed effect**).  \n",
        "\n",
        "- **\\\\( \\text{gender}_{ij} \\cdot \\text{feedback}_{ij} \\\\)**:  \n",
        "  The interaction term between \\\\( \\text{gender}_{ij} \\\\) and \\\\( \\text{feedback}_{ij} \\\\).  \n",
        "\n",
        "- **\\\\( \\beta_3 \\\\)**:  \n",
        "  The interaction effect between \\\\( \\text{gender}_{ij} \\\\) and \\\\( \\text{feedback}_{ij} \\\\) (**fixed effect**).  \n",
        "\n",
        "- **\\\\( \\text{id}_{i} \\\\)**:  \n",
        "  The \\\\( \\text{id}_{i} \\\\) cluster predictor.  \n",
        "\n",
        "- **\\\\( b_{0i} \\\\)**:  \n",
        "  Cluster intercept (**random effect**).  \n",
        "\n",
        "- **\\\\( \\epsilon_{ij} \\\\)**:  \n",
        "  Vector of residual errors.  \n",
        "\n",
        "\n",
        "\n",
        "#### <u>The model assumptions are</u>:\n",
        "\n",
        "- \\\\( \\boldsymbol{b}_{0i} \\sim N(\\mathbf{0}, \\sigma^2_{b_0}) \\\\).  \n",
        "\n",
        "- \\\\( \\boldsymbol{\\epsilon} \\sim N(\\mathbf{0}, \\sigma^2_\\epsilon{I}) \\\\).  \n",
        "\n",
        "- \\\\( \\boldsymbol{b}_{0i} \\\\) and \\\\( \\boldsymbol{\\epsilon} \\\\) are \\\\( iid \\\\).  \n"
      ],
      "metadata": {
        "id": "B47PcQJrJeoY"
      }
    },
    {
      "cell_type": "markdown",
      "source": [
        "### Generalized Likelihood Ratio Test (GLRT)\n",
        "\n",
        "Based on what we study, the **Generalized Likelihood Ratio Test (GLRT)** is a statistical test used to compare the goodness-of-fit of two nested models:\n",
        "- A **full model** (more complex, with additional parameters).\n",
        "- A **reduced model** (simpler, with fewer parameters).\n",
        "\n",
        "The test evaluates whether the additional parameters in the full model significantly improve the model fit. This is particularly useful in mixed models, such as testing the significance of random slopes or interaction effects.\n",
        "\n",
        "---\n",
        "\n",
        "#### **Test Statistic**\n",
        "\n",
        "The GLRT is based on the likelihood ratio:\n",
        "\n",
        "\\\\[ \\Lambda = -2 \\cdot \\left[ \\log L(\\text{reduced model}) - \\log L(\\text{full model}) \\right] \\\\]\n",
        "\n",
        "Where:\n",
        "- \\\\( L(\\cdot) \\\\): The likelihood of the model.\n",
        "\n",
        "Test Assumptions:\n",
        "\n",
        "1. **The likelihood ratio test statistic approximately follows a chi-squared distribution:**\n",
        "   The test statistic \\\\( \\Lambda \\\\) follows a chi-squared distribution under the null hypothesis, with degrees of freedom equal to the difference in the number of parameters between the models. That's what allows us to do Hypothesis test on the full model parameters.\n",
        "2. **Models are nested:**\n",
        "   The reduced model is a special case of the full model. Mathematically:\n",
        "   \n",
        "   \\\\(\\text{Reduced Model: } Y_{ij} = f(X_{ij}; \\beta_{\\text{reduced}})\\\\)\n",
        "   \n",
        "   \\\\(\\text{Full Model: } Y_{ij} = f(X_{ij}; \\beta_{\\text{full}})\\\\)\n",
        "   \n",
        "   Where:\n",
        "   - \\\\( \\beta_{\\text{reduced}} \\subseteq \\beta_{\\text{full}} \\\\), meaning the reduced model's parameters are a subset of the full model's parameters.\n",
        "\n",
        "---\n",
        "\n",
        "#### **Hypotheses**\n",
        "\n",
        "1. **Null Hypothesis $( H_0 )$:**\n",
        "   - The additional parameters in the full model are **not significant**.\n",
        "\n",
        "2. **Alternative Hypothesis $( H_1 )$:**\n",
        "   - The additional parameters in the full model are **significant** and improve the model fit.\n",
        "\n",
        "---\n",
        "\n",
        "##### a. <u> Test Random Effects </u>\n",
        "\n",
        "We compare:\n",
        "- **Full model:** Random intercept and random slope.    \n",
        "- **Reduced model:** Random intercept only.  \n",
        "\n",
        "The null hypothesis $( H_0 )$ is:   \n",
        "\n",
        "\\\\[\\boldsymbol{b}_{0i} = \\mathbf{0} \\\\]   \n",
        "\n",
        "The alternative hypothesis $( H_1 )$ is:   \n",
        "\n",
        "\\\\[ \\boldsymbol{b}_{0i} > \\mathbf{0} \\\\]  \n",
        "\n",
        "---\n",
        "\n",
        "We'll perform GLRT manually, based on this theorem. We'll compare the two models and provide the \\\\( \\chi^2 \\\\) test statistic and \\\\( \\boldsymbol{p\\text{-}value} \\\\) accordingly.\n",
        "If the \\\\( \\boldsymbol{p\\text{-}value} \\\\) for the likelihood ratio test is significant, the random intercept is meaningful."
      ],
      "metadata": {
        "id": "KhEAD78pQHJj"
      }
    },
    {
      "cell_type": "code",
      "source": [
        "# Step 1: Defining the Linear Mixed Model (LMM)\n",
        "# Formula explanation:\n",
        "# 'performance ~ gender + feedback + gender:feedback' specifies the fixed effects.\n",
        "# 'id' is included as a grouping factor for random effects.\n",
        "\n",
        "model_formula = \"performance ~ gender + feedback + gender:feedback\"\n",
        "\n",
        "# Step 2: Fitting the Linear Mixed Model\n",
        "# Using statsmodels MixedLM to fit the model with random intercept by 'id'\n",
        "lmm = MixedLM.from_formula(model_formula, groups=feedback_df['id'], data=feedback_df)\n",
        "lmm_result = lmm.fit()\n",
        "\n",
        "# Display the summary of the model\n",
        "print(lmm_result.summary())\n",
        "\n",
        "# Step 3: Comparing Full and Reduced Models for GLRT\n",
        "# Full model: With Random intercept\n",
        "full_model = MixedLM.from_formula(\"performance ~ gender * feedback\", groups=feedback_df[\"id\"], data=feedback_df).fit()\n",
        "\n",
        "# Reduced model: Without Random intercept\n",
        "reduced_model = smf.ols(\"performance ~ gender * feedback\", data=feedback_df).fit()\n",
        "\n",
        "# Perform GLRT manually\n",
        "log_likelihood_full = full_model.llf  # Log-likelihood of the full model\n",
        "log_likelihood_reduced = reduced_model.llf  # Log-likelihood of the reduced model\n",
        "\n",
        "# Calculate the test statistic\n",
        "likelihood_ratio_statistic = -2 * (log_likelihood_reduced - log_likelihood_full)\n",
        "\n",
        "# Degrees of freedom\n",
        "df_diff = full_model.df_modelwc - reduced_model.df_model  # Difference in the number of parameters\n",
        "\n",
        "# Calculate the p-value using the chi-squared distribution\n",
        "p_value = chi2.sf(likelihood_ratio_statistic, df_diff)\n",
        "\n",
        "print(f\"Likelihood Ratio Statistic: {likelihood_ratio_statistic}\")\n",
        "print(f\"Degrees of Freedom: {df_diff}\")\n",
        "print(f\"P-Value: {p_value}\")"
      ],
      "metadata": {
        "colab": {
          "base_uri": "https://localhost:8080/"
        },
        "id": "LpOZKRwpKzqv",
        "outputId": "2288bf6f-a1f6-432a-8cef-f2a4649eade9"
      },
      "execution_count": null,
      "outputs": [
        {
          "output_type": "stream",
          "name": "stdout",
          "text": [
            "                   Mixed Linear Model Regression Results\n",
            "============================================================================\n",
            "Model:                   MixedLM       Dependent Variable:       performance\n",
            "No. Observations:        792           Method:                   REML       \n",
            "No. Groups:              22            Scale:                    119.6287   \n",
            "Min. group size:         36            Log-Likelihood:           -3042.9947 \n",
            "Max. group size:         36            Converged:                Yes        \n",
            "Mean group size:         36.0                                               \n",
            "----------------------------------------------------------------------------\n",
            "                                Coef.  Std.Err.   z    P>|z|  [0.025  0.975]\n",
            "----------------------------------------------------------------------------\n",
            "Intercept                      105.128    6.568 16.006 0.000  92.255 118.002\n",
            "feedback[T.no feedback]        -17.192    3.010 -5.711 0.000 -23.093 -11.292\n",
            "feedback[T.positive]           -18.638    3.010 -6.191 0.000 -24.538 -12.738\n",
            "gender                          -6.280    4.154 -1.512 0.131 -14.421   1.862\n",
            "gender:feedback[T.no feedback]   7.324    1.904  3.847 0.000   3.592  11.056\n",
            "gender:feedback[T.positive]      8.323    1.904  4.371 0.000   4.591  12.055\n",
            "Group Var                       84.939    2.586                             \n",
            "============================================================================\n",
            "\n",
            "Likelihood Ratio Statistic: 341.5408674472719\n",
            "Degrees of Freedom: 2.0\n",
            "P-Value: 6.844519444321435e-75\n"
          ]
        }
      ]
    },
    {
      "cell_type": "markdown",
      "source": [
        "**Final Answer:**  \n",
        "For $\\alpha = 0.05$, We'll reject $H_0$.  \n",
        "We conclude that the random intercept \\\\( \\boldsymbol{b}_{0i} \\neq \\mathbf{0} \\\\) and it's significant.  \n",
        "Meaning the \\\\( \\mathbf{id}_{i} \\\\) has an effect on the performance variability."
      ],
      "metadata": {
        "id": "IygpilSBXQmE"
      }
    },
    {
      "cell_type": "markdown",
      "source": [
        "##### a. <u> Test Interaction Effects </u>  \n",
        "\n",
        "Now we'll test if the interaction is significant.    \n",
        "\n",
        "We compare:  \n",
        "- **Full model:** With interaction  \n",
        "- **Reduced model:** Without interaction.  \n",
        "\n",
        "The null hypothesis ($H_0$) is:  \n",
        "\n",
        "\\\\[ \\boldsymbol{\\beta}_{3} = \\mathbf{0} \\\\]    \n",
        "\n",
        "The alternative hypothesis ($H_1$) is:\n",
        "\n",
        "\\\\[ \\boldsymbol{\\beta}_{3} > \\mathbf{0} \\\\]   \n",
        "\n",
        "We'll use the same method from earlier to perform GLRT."
      ],
      "metadata": {
        "id": "q0ja1Lr3X1hg"
      }
    },
    {
      "cell_type": "code",
      "source": [
        "# Step 1: Defining the Linear Mixed Model (LMM)\n",
        "# Formula explanation:\n",
        "# 'performance ~ gender + feedback + gender:feedback' specifies the fixed effects.\n",
        "# 'id' is included as a grouping factor for random effects.\n",
        "\n",
        "model_formula = \"performance ~ gender + feedback + gender:feedback\"\n",
        "\n",
        "# Step 2: Fitting the Linear Mixed Model\n",
        "# Using statsmodels MixedLM to fit the model with random intercept by 'id'\n",
        "lmm = MixedLM.from_formula(model_formula, groups=feedback_df['id'], data=feedback_df)\n",
        "lmm_result = lmm.fit()\n",
        "\n",
        "# Display the summary of the model\n",
        "print(lmm_result.summary())\n",
        "\n",
        "# Step 3: Comparing Full and Reduced Models for GLRT\n",
        "# Full model: With interaction (random intercept included)\n",
        "full_model = MixedLM.from_formula(\"performance ~ gender * feedback\", groups=feedback_df[\"id\"], data=feedback_df).fit()\n",
        "\n",
        "# Reduced model: Without interaction (random intercept included)\n",
        "reduced_model = MixedLM.from_formula(\"performance ~ gender + feedback\", groups=feedback_df[\"id\"], data=feedback_df).fit()\n",
        "\n",
        "# Perform GLRT manually\n",
        "log_likelihood_full = full_model.llf  # Log-likelihood of the full model\n",
        "log_likelihood_reduced = reduced_model.llf  # Log-likelihood of the reduced model\n",
        "\n",
        "# Calculate the test statistic\n",
        "likelihood_ratio_statistic = -2 * (log_likelihood_reduced - log_likelihood_full)\n",
        "\n",
        "# Degrees of freedom\n",
        "df_diff = full_model.df_modelwc - reduced_model.df_modelwc  # Difference in the number of parameters\n",
        "\n",
        "# Calculate the p-value using the chi-squared distribution\n",
        "p_value = chi2.sf(likelihood_ratio_statistic, df_diff)\n",
        "\n",
        "print(f\"Likelihood Ratio Statistic: {likelihood_ratio_statistic}\")\n",
        "print(f\"Degrees of Freedom: {df_diff}\")\n",
        "print(f\"P-Value: {p_value}\")"
      ],
      "metadata": {
        "colab": {
          "base_uri": "https://localhost:8080/"
        },
        "id": "1I8kh_0fYvrU",
        "outputId": "1ac02d8f-2f1c-487c-d8e0-3b777deb99a2"
      },
      "execution_count": null,
      "outputs": [
        {
          "output_type": "stream",
          "name": "stdout",
          "text": [
            "                   Mixed Linear Model Regression Results\n",
            "============================================================================\n",
            "Model:                   MixedLM       Dependent Variable:       performance\n",
            "No. Observations:        792           Method:                   REML       \n",
            "No. Groups:              22            Scale:                    119.6287   \n",
            "Min. group size:         36            Log-Likelihood:           -3042.9947 \n",
            "Max. group size:         36            Converged:                Yes        \n",
            "Mean group size:         36.0                                               \n",
            "----------------------------------------------------------------------------\n",
            "                                Coef.  Std.Err.   z    P>|z|  [0.025  0.975]\n",
            "----------------------------------------------------------------------------\n",
            "Intercept                      105.128    6.568 16.006 0.000  92.255 118.002\n",
            "feedback[T.no feedback]        -17.192    3.010 -5.711 0.000 -23.093 -11.292\n",
            "feedback[T.positive]           -18.638    3.010 -6.191 0.000 -24.538 -12.738\n",
            "gender                          -6.280    4.154 -1.512 0.131 -14.421   1.862\n",
            "gender:feedback[T.no feedback]   7.324    1.904  3.847 0.000   3.592  11.056\n",
            "gender:feedback[T.positive]      8.323    1.904  4.371 0.000   4.591  12.055\n",
            "Group Var                       84.939    2.586                             \n",
            "============================================================================\n",
            "\n",
            "Likelihood Ratio Statistic: 28.47548588933296\n",
            "Degrees of Freedom: 2\n",
            "P-Value: 6.55581673227125e-07\n"
          ]
        }
      ]
    },
    {
      "cell_type": "markdown",
      "source": [
        "**Final Answer:**  \n",
        "For $\\alpha = 0.05$, We'll reject $H_0$.  \n",
        "We conclude that the interaction term \\\\( \\boldsymbol{\\beta}_{3} \\neq \\mathbf{0} \\\\) and it's significant.  \n",
        "Meaning we can assume that there's a dependency between \\\\( \\text{gender}_{ij} \\\\) and \\\\( \\text{feedback}_{ij} \\\\)."
      ],
      "metadata": {
        "id": "4mUDezhrZo6_"
      }
    },
    {
      "cell_type": "markdown",
      "source": [
        "#### b. <u> Bayesian Estimation </u>\n",
        "\n",
        "It can be shown that under our model\n",
        "\n",
        "\\\\[ \\boldsymbol{b}_{i} | \\boldsymbol{Y}_{i}, \\boldsymbol{X}_{i}, \\boldsymbol{Z}_{i} \\sim N(\\mu_{b_i}, \\Sigma_{b_i}).\\\\]\n",
        "\n",
        "Where:  \n",
        "\n",
        "- \\\\( \\mu_{b_i} = \\boldsymbol{B}\\boldsymbol{Z}_{i}^T \\Sigma_{i}^{-1} (\\boldsymbol{Y}_{i} - \\boldsymbol{X}_{i}\\boldsymbol{\\beta}) \\\\)  \n",
        "\n",
        "- \\\\( \\Sigma_{b_i} = \\boldsymbol{B} - \\boldsymbol{B}\\boldsymbol{Z}_{i}^T \\Sigma_{i}^{-1} \\boldsymbol{Z}_{i} \\boldsymbol{B} \\\\)\n",
        "\n",
        "Moreover, Based on our model assumptions:\n",
        "\n",
        "\\\\[ \\boldsymbol{Y}_{i} = \\boldsymbol{X}_{i} \\cdot \\boldsymbol{\\beta} + \\boldsymbol{Z}_{i} \\cdot \\boldsymbol{b}_{i} + \\boldsymbol{\\epsilon}_{ij} \\\\]\n",
        "\n",
        "Where:\n",
        "\n",
        "\\\\[ \\boldsymbol{Y}_{i} \\sim N(\\boldsymbol{X}_{i} \\cdot \\boldsymbol{\\beta} , \\Sigma_{i}) \\\\]\n",
        "\n",
        "**Note**: \\\\( \\Sigma_{i} = \\boldsymbol{Z}_{i} \\cdot \\boldsymbol{B} \\cdot \\boldsymbol{Z^T}_{i} + \\sigma^2_\\epsilon{I} \\\\)\n",
        "\n",
        "We'll be focusing on specific clusters (\\\\( \\text{id}_{7} \\\\) and \\\\( \\text{id}_{12} \\\\)).  \n",
        "we'll calculate \\\\( \\hat{b}_i \\\\) based on the formula and then compare it to results from a designated function.\n",
        "\n",
        "##### <u> Calculation based on formula</u>"
      ],
      "metadata": {
        "id": "WBZAmXggZwIF"
      }
    },
    {
      "cell_type": "code",
      "source": [
        "# Define the function to calculate b_i_hat for a given cluster ID\n",
        "def find_feedback_bi(i):\n",
        "    # Create B (variance of random intercept)\n",
        "    B = lmm_result.cov_re.iloc[0, 0]  # Extract random intercept variance\n",
        "\n",
        "    # Create Z_i (design matrix for random effects, in this case, just ones)\n",
        "    rows_cluster = feedback_df[feedback_df['id'] == i].index  # Identify row indexes for cluster i\n",
        "    Z_i = np.ones((len(rows_cluster), 1))  # Vector of 1's\n",
        "\n",
        "    # Subset all the outcomes (performance) for cluster i\n",
        "    Y_i = feedback_df.loc[rows_cluster, 'performance']\n",
        "\n",
        "    # Create X_i (design matrix for fixed effects)\n",
        "    X_full = lmm_result.model.exog  # Extract full design matrix\n",
        "    X_i = X_full[rows_cluster, :]  # Subset design matrix for cluster i\n",
        "\n",
        "    # Fixed-effects coefficients (beta)\n",
        "    beta = lmm_result.fe_params.values  # Extract fixed-effects coefficients\n",
        "\n",
        "    # Compute Sigma_i (residual covariance matrix)\n",
        "    residual_var = lmm_result.scale  # Residual variance\n",
        "    Sigma_i_inv = np.linalg.inv(Z_i @ Z_i.T * B + residual_var * np.eye(len(rows_cluster)))\n",
        "\n",
        "    # Compute b_i_hat\n",
        "    b_i_hat = B * Z_i.T @ Sigma_i_inv @ (Y_i.values - X_i @ beta)\n",
        "\n",
        "    return b_i_hat\n",
        "\n",
        "# Calculate b_i_hat for clusters 7 and 12\n",
        "print(\"Our beta estimations for id=7 and id=12 are:\", find_feedback_bi(7), \"and\", find_feedback_bi(12), \"accordingly\")\n"
      ],
      "metadata": {
        "colab": {
          "base_uri": "https://localhost:8080/"
        },
        "id": "ZTJg1SiZa3aR",
        "outputId": "dc3334f1-bbfc-4c42-d86a-61f605083f08"
      },
      "execution_count": null,
      "outputs": [
        {
          "output_type": "stream",
          "name": "stdout",
          "text": [
            "Our beta estimations for id=7 and id=12 are: [6.12546163] and [-9.22028355] accordingly\n"
          ]
        }
      ]
    },
    {
      "cell_type": "markdown",
      "source": [
        "##### Calculation based on designated ```random_effects``` function from ```statmodels```"
      ],
      "metadata": {
        "id": "fpWXmq1Gef-D"
      }
    },
    {
      "cell_type": "code",
      "source": [
        "# Extract the random effects for all clusters\n",
        "random_effects = lmm_result.random_effects\n",
        "\n",
        "# Print the random effects for specific clusters (e.g., 7 and 12)\n",
        "print(\"Random effect for id=7:\", random_effects[7])\n",
        "print(\"Random effect for id=12:\", random_effects[12])\n"
      ],
      "metadata": {
        "colab": {
          "base_uri": "https://localhost:8080/"
        },
        "id": "k3vtypAMefsj",
        "outputId": "03efcdef-4b92-4930-baad-563936224931"
      },
      "execution_count": null,
      "outputs": [
        {
          "output_type": "stream",
          "name": "stdout",
          "text": [
            "Random effect for id=7: Group    6.125462\n",
            "dtype: float64\n",
            "Random effect for id=12: Group   -9.220284\n",
            "dtype: float64\n"
          ]
        }
      ]
    },
    {
      "cell_type": "markdown",
      "source": [
        "We can see that the results are the same, so we didn't had to work hard in the first place 🫠"
      ],
      "metadata": {
        "id": "9lNJvQMafInZ"
      }
    }
  ]
}